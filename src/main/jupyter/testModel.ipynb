{
 "cells": [
  {
   "cell_type": "markdown",
   "metadata": {},
   "source": [
    "### Import semua library yang dibutuhkan"
   ]
  },
  {
   "cell_type": "code",
   "execution_count": 83,
   "metadata": {},
   "outputs": [],
   "source": [
    "import sys\n",
    "import os\n",
    "sys.path.append(\"../../\")\n",
    "stderr = sys.stderr\n",
    "sys.stderr = open(os.devnull, 'w')\n",
    "\n",
    "import modules.ReadCsv as rc\n",
    "import modules.PreProcess as pp\n",
    "import model.ListOfModels as lm\n",
    "\n",
    "from subproc.Vocabulary import *\n",
    "from keras.preprocessing import sequence\n",
    "from keras.models import load_model\n",
    "from sklearn.metrics import accuracy_score, precision_score, recall_score, f1_score\n",
    "import keras_metrics as km\n",
    "\n",
    "import numpy as np\n",
    "import json"
   ]
  },
  {
   "cell_type": "markdown",
   "metadata": {},
   "source": [
    "### Deklarasi konstanta"
   ]
  },
  {
   "cell_type": "code",
   "execution_count": 84,
   "metadata": {},
   "outputs": [],
   "source": [
    "NUM_OF_ATTRIBUTES = 2500\n",
    "vocabPath = '../../../vocabulary/corpus.json'\n",
    "inputPath = '../../../input/data_testing_225.csv'\n",
    "slangWordPath = '../../../vocabulary/slangwords.csv'"
   ]
  },
  {
   "cell_type": "markdown",
   "metadata": {},
   "source": [
    "### Proses membaca data testing dan melakukan preprocess"
   ]
  },
  {
   "cell_type": "code",
   "execution_count": 85,
   "metadata": {},
   "outputs": [],
   "source": [
    "posData, negData = rc.csv2array(inputPath)\n",
    "posData = pp.getResult(posData, slangWordPath)\n",
    "negData = pp.getResult(negData, slangWordPath)"
   ]
  },
  {
   "cell_type": "markdown",
   "metadata": {},
   "source": [
    "### Tahap memberi label pada data"
   ]
  },
  {
   "cell_type": "code",
   "execution_count": 86,
   "metadata": {},
   "outputs": [
    {
     "name": "stdout",
     "output_type": "stream",
     "text": [
      "('fadli zon mendagri menonaktifkan ahok gubernur dki', 1.0)\n",
      "('melukai aksi rangka memenjarakan ahok ahok gagal pilkada', 1.0)\n",
      "('sylvi gurbernur kekerasan perempuan buktinya foto bareng', 1.0)\n",
      "('ahmad dhani puas debat pilkada jalan bekasi terungkap', 1.0)\n",
      "('waspada ktp palsu kawal pilkada', 1.0)\n",
      "('bnyak agamis dibahas pilkada tingkat keimanan sebatas pilkada', 1.0)\n",
      "('maksud pernyataan mengaminkan kriminalisasi ahok hati dg mulutmu', 1.0)\n",
      "('ahok integrasikan transportasi publik sistem single ticketing', 1.0)\n",
      "('ahok melawan korupsi ibukota bangun infrastruktur mencoba memperbaiki trobosan works well', 1.0)\n",
      "('awasi kecurangan pilkada agus sylvi pakai aplikasi', 1.0)\n",
      "('jokowi ahok kalem melengkapi', 1.0)\n",
      "('bos makan istana undang noh makan istana gebang tapinya', 1.0)\n",
      "('cuti habis ahok gubernur dki pengamat mengada republika online', 1.0)\n",
      "('debat pilkada dki jakarta digelar jumat malam', 1.0)\n",
      "('demonstran fpd malteng desak bawaslu hentikan tahapan pilkada maluku', 1.0)\n",
      "('didesak berhentikan ahok ngeles cuti pilkada kampanye habis kemendagri ragu ragu', 1.0)\n",
      "('gila gara pilkada tokoh menampakkan watak aslinya', 1.0)\n",
      "('gontor izinkan santrinya pulang kampung nyoblos pilkada dki republika online', 1.0)\n",
      "('gubernur non aktif dki jakarta basuki tjahaja purnama ahok berencana merombak struktur jabatan pegawai', 1.0)\n",
      "('hebat imam masjid istiqlal kalimat ahok penistaan agama sebarkan', 1.0)\n",
      "('beli telor pakai milih sblm ditimbang pdh telor telor busuk', 1.0)\n",
      "('ahok terkait persiapan debat pilgub besok', 1.0)\n",
      "('pesan ahok pers nasional', 1.0)\n",
      "('istighotsah ahok memakai logo nu', 1.0)\n",
      "('ngomong pilih ahok djarot ngerasain banjir sih', 1.0)\n",
      "('iya deh dripada hoax', 1.0)\n",
      "('pelacur belia dijual orang tuanya pantura sesuap nasi', 1.0)\n",
      "('nyebar hoax ketahuan akun twitter nya lho', 1.0)\n",
      "('mpok tolong mas', 1.0)\n",
      "('bidara beli mangga pulang nye liwat slipi lupa tetangga milih agus sylvi', 1.0)\n",
      "('serius selipan hiburannya udd ude udd ude udd ude', 1.0)\n",
      "('sylvie sukses blunder bikin paslon drop elektabilitasnya fitnah spin salah pilih kader', 1.0)\n",
      "('ahok mari berlomba program', 1.0)\n",
      "('aduh kecewa paslon', 1.0)\n",
      "('pilih nomor sektor informal dimajukan mas agus mpok sylvi', 1.0)\n",
      "('ahok pilihan terbaik jakarta', 1.0)\n",
      "('bu silvy curhat dimarahi ahok senyum', 1.0)\n",
      "('mantap ahok', 1.0)\n",
      "('ahok gagah kaya gatot kaca', 1.0)\n",
      "('telaaaakkk nomer satuuuu nghahahaha', 1.0)\n",
      "('lomba adu program', 1.0)\n",
      "('denger program janji pas dijalankan malas sih', 1.0)\n",
      "('debat cagub dki februari segmen mantap ahok skak sylviana murni ndebatfinalpilkadajkt', 1.0)\n",
      "('silvy rada maksa', 1.0)\n",
      "('tanggal pas pilkada milih ah', 1.0)\n",
      "('pribadi prefer muslim kapabilitas lihat kondisinya ahok pilihan pulang realistis kemajuan dki', 1.0)\n",
      "('mendukung mas anies anti ahok', 1.0)\n",
      "('spanduk tolak salatkan pembela penista agama muncul kalibata', 1.0)\n",
      "('telak banget anjir ngakak', 1.0)\n",
      "('ayo berlomba program fitnah', 1.0)\n",
      "('ngantuk yeay', 1.0)\n",
      "('duh dibilang program paslon kesian kesian kesian', 1.0)\n",
      "('tuntut keadilan penista agama puluhan jawara betawi ikuti aksi jilid ii', 1.0)\n",
      "('keras nih ahok', 1.0)\n",
      "('paslon anies sandiaga uno feb jakarta indonesia raya ok oce', 1.0)\n",
      "('sesuai namanya ronde final ndebatfinalpilkadajkt', 1.0)\n",
      "('mendagri pusing ma emoh keluarkan fatwa status gubernur penista agama', 1.0)\n",
      "('tolong adu program', 1.0)\n",
      "('genderang perang kencang', 1.0)\n",
      "('mpok sylvi udah emosi udd ude', 1.0)\n",
      "('some people bedain kasar', 1.0)\n",
      "('beliau pemimpin hebat indonesia bangga', 1.0)\n",
      "('bu silvy foto ahok hihihi', 1.0)\n",
      "('serang deh', 1.0)\n",
      "('baca biar mendinginkan suasana', 1.0)\n",
      "('ayo berlomba program pitnah doank', 1.0)\n",
      "('pokoknya ahok udah ngomong aduuuuuuh kelar', 1.0)\n",
      "('senjata makan tuan', 1.0)\n",
      "('ahok kekerasan verbal koruptor dielus', 1.0)\n",
      "('program diserang diserang karakternya ahay udd ude', 1.0)\n",
      "('terkait jakarta ramah anak tanggapan', 1.0)\n",
      "('emang ok oce anies sandi mengatasi urbanisasi lapangan kerja', 1.0)\n",
      "('suporternya kampungan paslon ngomong', 1.0)\n",
      "('seru ni', 1.0)\n",
      "('nangis nangis ketonjok', 1.0)\n",
      "('debat malam pilihanmu jatuh paslon', 1.0)\n",
      "('wkwkwk udah dah pilih anies sandi', 1.0)\n",
      "('fitnah kejam loh pembunuhan', 1.0)\n",
      "('mari coba pakai', 1.0)\n",
      "('apapun keberanian ahok membongkar mafia anggaran tonggak apbd kredibel akuntabel', 1.0)\n",
      "('wujud nasional is me dagangannya hebat', 1.0)\n",
      "('dosen keliatan aslinya', 1.0)\n",
      "('kampanye deklarasi anti sara pikir no mending no', 1.0)\n",
      "('mateng mpok silvy bombardir ahok cerdas ahok', 1.0)\n",
      "('mohon tenang', 1.0)\n",
      "('no nih ngomongin program mulu ya bhan ya serang lawan capek dehh', 1.0)\n",
      "('cinta ahok pokoknya', 1.0)\n",
      "('foto ahok lho', 1.0)\n",
      "('mas agus akui malam rambut bagus', 1.0)\n",
      "('ahok janji berani tutup hiburan malam jual narkoba', 1.0)\n",
      "('agus sylvi sisipkan bahasa jawa debat', 1.0)\n",
      "('ahok udah perhatikan penyandang disabilitas kandidat berjanji', 1.0)\n",
      "('ahok keren', 1.0)\n",
      "('gimana ya tim ahok disudutkan final kali ya', 1.0)\n",
      "('nih fakta asbun', 1.0)\n",
      "('meme cctv', 1.0)\n",
      "('nyinyir tingkat nasional', 1.0)\n",
      "('drama banget', 1.0)\n",
      "('judulnya debat nyerang paslon', 1.0)\n",
      "('lha menyerang beitu ya', 1.0)\n",
      "('debat berantem beda tipis', 1.0)\n",
      "('orang dibilang maki maki orang', 1.0)\n",
      "('perempuan berbeda kaum perempuan', 1.0)\n",
      "('mantap ok oce anies sandi mengatasi urbanisasi lapangan kerja', 1.0)\n",
      "('seru nih mengungkit kekerasan verbal lakukan manusia', 1.0)\n",
      "('perempuan perempuan', 1.0)\n",
      "('paslon dpt dikategorikan kekerasan debat', 1.0)\n",
      "('maafkan biarkan malam memposting ujaran kebencian malam xoxo', 1.0)\n",
      "('semoga allah memenangkan anies sandi', 1.0)\n",
      "('non muslim coblos ahok muslim coblos djarot', 1.0)\n",
      "('pemimpin ciptakan suasana damai tentram adu domba hasutan', 1.0)\n",
      "('salah jokowi ahok kafir kafir ateis', 0.0)\n",
      "('biar biar tai nya kena ya loh tuh suka ahok biar loh bpk loh loh kena tai nya', 0.0)\n",
      "('angin memporakporandakan basis pemenangan si penista agama cililitan nya alloh ampuni njakartabanjir', 0.0)\n",
      "('prestasi ahok nselain mjadi mafia koruptor penista agama bhasil tenggelamkan jkt congoran cebon', 0.0)\n",
      "('ulama kompak nyatakan pilih ahok = murtad', 0.0)\n",
      "('kau pendikan bodoh gk larang bawa agama biar orang islam bayar ahok sadar gk milih ahok gla', 0.0)\n",
      "('tanah abang cina udah resah stres gara si penista agama pilkada pasar sepi sepi minggu ha ha', 0.0)\n",
      "('menentang si cina kafir ahok kriminalisasi polisi smua rekayasa hukum nya', 0.0)\n",
      "('habis pikir fanboy ahok bego bego ya ngerti sejarah gampang kejebak iklan maaf ya', 0.0)\n",
      "('pilih ahok drpd pilih iman tp koruptor dn munafik bodoh kau', 0.0)\n",
      "('ahok si penghina al quran ulama bersikap menjijikkan sok suci', 0.0)\n",
      "('ayo umat islam pinter percaya aksi hubungannya pilkada ahy bayar anies untung udd ude', 0.0)\n",
      "('mampuuuusssssss mpok silvy', 0.0)\n",
      "('hidup china komunis', 0.0)\n",
      "('tuh kesalahan jokowi ahok si babi ateis', 0.0)\n",
      "('ahok menang pilkada bikin video sex bareng anaknya tan', 0.0)\n",
      "('keluarga berdomisili jakarta pilih ahok suara ulama bulat', 0.0)\n",
      "('ketutunan cina kota pulau kejakarta coblos ahok ktp aspal kamboja', 0.0)\n",
      "('china babi china maling nusirchina', 0.0)\n",
      "('memilih agus sylvi nanaknya sby keluarga koruptor nblusukanahok nberjamaahcoblospecinya', 0.0)\n",
      "('tangkap ahok klompok nya pemalsuan e ktp karna penghiyanat bangsa negara', 0.0)\n",
      "('tangkap ahok share setuju', 0.0)\n",
      "('sayang bangsa jago mendukung ahok mendukung mas anies suci', 0.0)\n",
      "('video ahok menghina agama kristen agama konyol', 0.0)\n",
      "('penista agama jpu ahok pemecah belah bangsa', 0.0)\n",
      "('mbak sylviana please sehat', 0.0)\n",
      "('nomor sok lansung skak wkwkwk', 0.0)\n",
      "('ayoo jaga keutuhan nkri tangkap penista agama', 0.0)\n",
      "('salah pendukung mafia koruptor penista agama gerombolan banci titot lakukan bidikan arah', 0.0)\n",
      "('tobat yuk terlambat biar gerombolan jil doakan konsisten bela kekafiran hayat', 0.0)\n",
      "('ya allah menempuh curang memenangkan si penista agama engkau kirimkanlah malaikat maut menyeles', 0.0)\n",
      "('kebanyakan fitnah nih mpok silvy', 0.0)\n",
      "('fpi pendukung ahok kalah izin allah gusur gubernur koruptor penista agama', 0.0)\n",
      "('pemimpinnya akhlak penista agama', 0.0)\n",
      "('twit asyik akun akun pro penista agama akun akun buzzer kerjanya menghujat', 0.0)\n",
      "('ahoker bela penista agama', 0.0)\n",
      "('cucunya dajjal hadir', 0.0)\n",
      "('siang malam maki ulama nongkrongi medsos ulama nbela penista agama sombongnya ampun', 0.0)\n",
      "('mayoritas etnis china dki nmengapa solid mendukung penista agama islam ndendam ntidak nasionalis', 0.0)\n",
      "('mukanya mpo silvy asem bangett ngakak kena deh abis jahat sih', 0.0)\n",
      "('gara belain terdakwa penista agama remek sukurin', 0.0)\n",
      "('sekumpulan teman penista agama ntdk empati korban banjir koar memuji junjunganya', 0.0)\n",
      "('penjarakan penista agama turun', 0.0)\n",
      "('si penista agama jaga mulut jaga jkt', 0.0)\n",
      "('ahok program paslon no programnya ngambang yaiyalah pakkk program diaa cma celaan', 0.0)\n",
      "('akui ahok djarot gagal atasi banjir orang kena banjir sibuk sidang penista agama', 0.0)\n",
      "('iyaa ahog ngak pantes pemimpin pantesnya penista agama dipenjarakan', 0.0)\n",
      "('overdosis membela penista agama', 0.0)\n",
      "('kaga masuk diakal kite suara penista agama dah dikutuk ame umat islam suara nye emang sengaja ditinggiin tuh', 0.0)\n",
      "('pantasan pecat dr menteri data aj ngawur memkasakan tawa', 0.0)\n",
      "('penjarakan ahoax penista agama jokowi turun konsolidasidewanpkb', 0.0)\n",
      "('dibiarin tim si penista agama maen curang maren emang sengaja dibiarin biar ntar digaplok umat islam rame jakarta tuh penista', 0.0)\n",
      "('hahahahhahaa silvy ohh silvy cacingan ahhh wkwkwkwkwkk', 0.0)\n",
      "('ahok taik menfitnah emang tukang caci maki perempuannn asuuu', 0.0)\n",
      "('fakta bilang fitnah ndebatfinalpilkadajkt', 0.0)\n",
      "('shame on you silvy malu fitnah tuh rasain ahok panas skak mat', 0.0)\n",
      "('bu silvi anti pns level rendah', 0.0)\n",
      "('orang islam bodoh goblok memilik ahok', 0.0)\n",
      "('fitnah fpi pecah ulah ahoker elektabilitas ahok tinggal kelojotan mui+nu+muhammadi', 0.0)\n",
      "('norak banget iklan mantan mendikbud respech tenun kebangsaan maksud', 0.0)\n",
      "('nebar kebencian ahok mbakmasa mbak sih terdakwa loh', 0.0)\n",
      "('bu sylvi mutu', 0.0)\n",
      "('huuu sylvi ngoceh', 0.0)\n",
      "('sylvi keliatan bloonnya', 0.0)\n",
      "('ahoax penista agama mengolok olok surat al maidah cc', 0.0)\n",
      "('pemimpinnya akhlak penista agama', 0.0)\n",
      "('mati kau hok', 0.0)\n",
      "('program bisanya fitnah ciri orang demen ngambil kjp kontan', 0.0)\n",
      "('mpok silvi nyinyir melulu nya sayang sesat maklum sih dese emakemak', 0.0)\n",
      "('tawa pilkada dasar polisi made in cina pelindung penista agama', 0.0)\n",
      "('kurangnya pemberdayaan wanita dki jakarta telaknya perbedaan warna muka warna tangan mpok sylvi', 0.0)\n",
      "('agus silvy tukang fitnah', 0.0)\n",
      "('yaudah gus sakit fisik verbal gebukin rame', 0.0)\n",
      "('keluarga maling coyy trauma kaleeeee emang kluarga', 0.0)\n",
      "('kaitkan jokowi ahok johan budi jokowi anjing ahok babi ya berbeda otaknya', 0.0)\n",
      "('bajingan silvy', 0.0)\n",
      "('hasil melindungi ahok terdakwa penista agama', 0.0)\n",
      "('selepas banjir jakarta pendukung ahok mengganti narasi doa keuntungan sang penista agama', 0.0)\n",
      "('tionghoa kaya putus sekolah kebanyakan dugem', 0.0)\n",
      "('gusur ahok indonesia teladan buruk pembangkangan hukum anti kemanusiaan jakarta tertular daerah', 0.0)\n",
      "('ahoker takut matinya gg disholatin tenang abu janda ust gadungan sholatin ahoker jokower', 0.0)\n",
      "('mampuuss tembak dalem banget silvyy urusin tuh dapurr program demennya nyerang', 0.0)\n",
      "('anjir kali lihat orang bego debat pilkada kerjanya nyerang karakter shame on you mpok silvy and agus', 0.0)\n",
      "('uang taipan tuh dibayar ratusan penggusuran biadab ahok', 0.0)\n",
      "('cina asu', 0.0)\n",
      "('ngomong sylvi keliatan oke didebat ahok sylvi langsung kekuatan goblok', 0.0)\n",
      "('banjir tuhan dilawan ahok jakarta banjir genangan', 0.0)\n",
      "('pemimpim pribumi knp pilih pemimpin impor beradab tukang berbohong yuk pribumikan dki milik bangsa ind', 0.0)\n",
      "('karna program modal bacot doang', 0.0)\n",
      "('pendukung dr penista agama dukung gerakan', 0.0)\n",
      "('narkoba berbahaya ilusi kesucian ahok sang penista', 0.0)\n",
      "('emang ahok orang penista agama', 0.0)\n",
      "('cina mah duitnya hasil maling indonesia balikin lgi berkedok invest plus bawa gembel napi cina negeri nenek moyang ahok', 0.0)\n",
      "('tangkap ahok skrng koruptor reklamasi jakarta penista agama islam', 0.0)\n",
      "('keliatan banget bego nya mpok silvy and agus', 0.0)\n",
      "('ahokers seneng ama cuitan silahkan unfollow anti ahok si penista agama islam', 0.0)\n",
      "('agama nistakan ulama lecehkan alasannya', 0.0)\n",
      "('serang ahok kafir galak', 0.0)\n",
      "('anjing ahok kaum babi bnyk bacot mnding duel sma', 0.0)\n",
      "('ahok verbalnya keras pelampiasan pelarian kelelakiannya lunak', 0.0)\n",
      "('maling china babi blbi korupsi nya triliunan si ahok korupsi triliun', 0.0)\n",
      "('mimpi djan farid jakarta islami aceh ahok terpilih babi merindukan halal', 0.0)\n",
      "('ridwal kamil hebat top kaya ahok tukang penista agama koruptor', 0.0)\n",
      "('si ahok kutil babi', 0.0)\n",
      "('dasar si kutil babi ahok tukang bohong bohong ahok menyalahkan menutupi kegagalan nya contoh banjir', 0.0)\n",
      "('si terdakwa penista agama alias si ahok babi jamban tuh morfotin uang rakyat jakarta', 0.0)\n",
      "('om ahoknya omkatanya si babi ahok ngatasi banjir om babi membual om', 0.0)\n",
      "('anak babi jalan nya nundukkarena malu lihat ulah nya ngebelain ahok', 0.0)\n",
      "('perilaku si babi benci berbau islam cocok ahok', 0.0)\n",
      "('ahok si kutil babi rumah lembang jakarta banjir bud', 0.0)\n",
      "('orang cerdas pintar pilih orang imam memimpin sholat ngaji santun sopan babi kafir ahok', 0.0)\n",
      "('teman ahok emank tai pemimpinnya kek babi', 0.0)\n",
      "('babi ahok ngejek onta biar injek ama onta', 0.0)\n",
      "('stigma babi milik tuhan elu si ahok kafir', 0.0)\n"
     ]
    }
   ],
   "source": [
    "dataLabeled = list(zip(posData, np.ones(len(posData))))\n",
    "dataLabeled.extend(list(zip(negData, np.zeros(len(negData)))))\n",
    "\n",
    "for i in dataLabeled:\n",
    "    print(i)"
   ]
  },
  {
   "cell_type": "markdown",
   "metadata": {},
   "source": [
    "### Proses merubah label dalam bentuk one hot"
   ]
  },
  {
   "cell_type": "code",
   "execution_count": 87,
   "metadata": {},
   "outputs": [],
   "source": [
    "datas, labels = zip(*dataLabeled) # proses memisahkan data dengan label\n",
    "labels = to_categorical(labels) # proses merubah label dalam bentuk one hot"
   ]
  },
  {
   "cell_type": "markdown",
   "metadata": {},
   "source": [
    "### Merubah data menjadi angka dan melakukan training"
   ]
  },
  {
   "cell_type": "code",
   "execution_count": 88,
   "metadata": {},
   "outputs": [],
   "source": [
    "vocab = Vocabulary()\n",
    "x = vocab.transformSentencesToId2(datas, NUM_OF_ATTRIBUTES, vocabPath)\n",
    "x = sequence.pad_sequences(x, maxlen=21)\n",
    "\n",
    "model = load_model('../model/bi-lstm3.h5')\n",
    "y = model.predict(np.array(x), verbose=0)\n",
    "y = np.exp(y)\n",
    "yPredict = []\n",
    "\n",
    "for label in y:\n",
    "    if label[0] < label[1]:\n",
    "        yPredict.append(1.0)\n",
    "    else:\n",
    "        yPredict.append(0.0)\n",
    "yPredict = to_categorical(yPredict)"
   ]
  },
  {
   "cell_type": "markdown",
   "metadata": {},
   "source": [
    "### Perhitungan tp, tn, fp, fn"
   ]
  },
  {
   "cell_type": "code",
   "execution_count": 91,
   "metadata": {},
   "outputs": [
    {
     "name": "stdout",
     "output_type": "stream",
     "text": [
      "True Positif :  104\n",
      "True Negatif :  101\n",
      "False Positif :  7\n",
      "False Negatif :  13\n"
     ]
    }
   ],
   "source": [
    "tp = 0\n",
    "tn = 0\n",
    "fp = 0\n",
    "fn = 0\n",
    "\n",
    "posLabel = np.array([0.0, 1.0])\n",
    "negLabel = np.array([1.0, 0.0])\n",
    "\n",
    "indexFp = 0\n",
    "indexFn = 0\n",
    "\n",
    "for index, (yVal, yPred) in enumerate(zip(labels, yPredict)):\n",
    "    if (np.array_equal(yVal, posLabel)):\n",
    "        if(np.array_equal(yVal, yPred)):\n",
    "            tp += 1\n",
    "        else:\n",
    "            fp += 1\n",
    "#             print('Index False Positive : ', index)\n",
    "    else:\n",
    "        if(np.array_equal(yVal, yPred)):\n",
    "            tn += 1\n",
    "        else:\n",
    "            fn += 1\n",
    "#             print('Index False Negative : ', index)\n",
    "\n",
    "print('True Positif : ', tp)\n",
    "print('True Negatif : ', tn)\n",
    "print('False Positif : ', fp)\n",
    "print('False Negatif : ', fn)"
   ]
  },
  {
   "cell_type": "markdown",
   "metadata": {},
   "source": [
    "### Perhitungan Akurasi, presisi, dan recall"
   ]
  },
  {
   "cell_type": "code",
   "execution_count": 92,
   "metadata": {},
   "outputs": [
    {
     "name": "stdout",
     "output_type": "stream",
     "text": [
      "Akurasi :  92.44444444444444\n",
      "Presisi :  93.69369369369369\n",
      "Recall :  88.88888888888889\n",
      "F1 :  91.22807017543859\n"
     ]
    }
   ],
   "source": [
    "acc = (tp + tp) / (tp + tn + fp + fn)\n",
    "prec = (tp) / (tp + fp)\n",
    "rec = (tp) / (tp + fn)\n",
    "f1 = ((prec * rec) / (prec + rec)) * 2\n",
    "\n",
    "print('Akurasi : ', acc * 100)\n",
    "print('Presisi : ', prec * 100)\n",
    "print('Recall : ', rec * 100)\n",
    "print('F1 : ', f1 * 100)"
   ]
  },
  {
   "cell_type": "markdown",
   "metadata": {},
   "source": [
    "## Contoh data yang salah\n",
    "\n",
    "### False Positif\n",
    "- Sylvie sukses blunder bikin paslon 1 drop elektabilitasnya dengan fitnah dan spin salah pilih kader #DebatFinalPilkadaJKT\n",
    "- Spanduk Tolak Salatkan Pembela Penista Agama juga Muncul di Kalibata\n",
    "\n",
    "### False Negatif\n",
    "- Sayang sekali Bangsa ini Paling jago kalau merasa-rasa. Yg mendukung Pak Ahok merasa paling benar, yg mendukung Mas Anies merasa paling suci\n",
    "- Mbak Sylviana please Anda sehat?"
   ]
  },
  {
   "cell_type": "code",
   "execution_count": null,
   "metadata": {},
   "outputs": [],
   "source": []
  }
 ],
 "metadata": {
  "kernelspec": {
   "display_name": "Python 3",
   "language": "python",
   "name": "python3"
  },
  "language_info": {
   "codemirror_mode": {
    "name": "ipython",
    "version": 3
   },
   "file_extension": ".py",
   "mimetype": "text/x-python",
   "name": "python",
   "nbconvert_exporter": "python",
   "pygments_lexer": "ipython3",
   "version": "3.7.4"
  }
 },
 "nbformat": 4,
 "nbformat_minor": 2
}
